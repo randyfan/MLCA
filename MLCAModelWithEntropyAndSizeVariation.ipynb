{
 "cells": [
  {
   "cell_type": "code",
   "execution_count": 28,
   "metadata": {
    "id": "ikP2dk18sCTA"
   },
   "outputs": [],
   "source": [
    "# BEFORE RUNNING THE CELLS, PLEASE GO TO \"EDIT\" -> \"NOTEBOOK SETTINGS\" -> AND SET \"HARDWARE ACCELERATOR\" TO GPU\n",
    "\n",
    "import tensorflow as tf\n",
    "from tensorflow import keras\n",
    "from tensorflow.keras.preprocessing.image import ImageDataGenerator\n",
    "from tensorflow.keras.applications import ResNet50\n",
    "from tensorflow.keras.layers import Dropout, Flatten, Dense, Activation, BatchNormalization\n",
    "from tensorflow.keras.layers import Conv2D, MaxPooling2D, AveragePooling2D, Dropout\n",
    "from tensorflow.keras.optimizers import SGD\n",
    "from sklearn.preprocessing import LabelBinarizer\n",
    "from sklearn.model_selection import train_test_split\n",
    "from sklearn.metrics import classification_report\n",
    "from sklearn.preprocessing import MinMaxScaler\n",
    "\n",
    "import numpy as np \n",
    "import matplotlib.pyplot as plt \n",
    "import argparse\n",
    "import os\n",
    "import cv2 \n",
    "import random\n",
    "\n",
    "import sys\n",
    "from PIL import Image\n",
    "\n",
    "import pickle\n",
    "\n",
    "import math"
   ]
  },
  {
   "cell_type": "code",
   "execution_count": 29,
   "metadata": {
    "id": "nZ8ibIQNsCTA"
   },
   "outputs": [],
   "source": [
    "DATADIR = \"./finaldata\" \n",
    "CATEGORIES = [\"Boring\", \"Interesting\"]\n",
    "training_data = []\n",
    "IMG_SIZE = 300 # Hyperparameter. calculated to be stitched together size. each img is 396 x 396. Stitching them together 396*3 = 1188x 1188. So 1185 is an approximation of that."
   ]
  },
  {
   "cell_type": "code",
   "execution_count": 105,
   "metadata": {},
   "outputs": [],
   "source": [
    "def compute_entropy(file_path, file_name):\n",
    "    res = []\n",
    "    vector = []\n",
    "    for i in range(80, 120): \n",
    "        IMAGE_DIR = file_path + \"/\" + file_name + str(i) + \".png\"\n",
    "        img_array = cv2.imread(IMAGE_DIR, cv2.IMREAD_GRAYSCALE) # img_array is a 2-d array\n",
    "        vector.append(img_array)\n",
    "    for i in range(len(vector) - 1): \n",
    "        vector_one, vector_two = vector[i], vector[i + 1] \n",
    "        entropy = sum([(vector_one[j] - vector_two[j])**2 for j in range(len(vector_one))])/len(vector_one)\n",
    "        res.append(entropy)\n",
    "    for i in range(len(res)): \n",
    "        res[i] = sum(res[i])/len(res[i])"
   ]
  },
  {
   "cell_type": "code",
   "execution_count": 106,
   "metadata": {},
   "outputs": [
    {
     "name": "stdout",
     "output_type": "stream",
     "text": [
      "39\n"
     ]
    }
   ],
   "source": [
    "for category in CATEGORIES:\n",
    "    path = os.path.join(DATADIR, category)\n",
    "    for image in sorted(os.listdir(path)):\n",
    "        if \".png\" not in image or \"80\" not in image:\n",
    "            continue\n",
    "        file_name = image[0:-6]\n",
    "        compute_entropy(path, file_name)\n",
    "        \n",
    "compute_entropy(\"./finaldata/Interesting\", \"S_B2_States3_Interesting_Sample0_\")"
   ]
  },
  {
   "cell_type": "code",
   "execution_count": 55,
   "metadata": {
    "id": "7Y4fZH6csCTB"
   },
   "outputs": [],
   "source": [
    "# The number of frames we use (e.g. 9) is a hyperparameter, but it has to be a square (4, 9, 16)\n",
    "# The starting frame (e.g., 100) is another hyperparameter. If the size is 9, the frames we use would be in [100, 100 + 9)\n",
    "\n",
    "def stitch_images(file_path, file_name, start_frame, num_frames, save_DIR):\n",
    "    images = [Image.open(image) for image in [file_path + \"/\" + file_name + str(x) + \".png\" for x in range(start_frame, start_frame + num_frames)]]\n",
    "    widths, heights = zip(*(i.size for i in images))\n",
    "    dimension = int(math.sqrt(num_frames))\n",
    "    total_width = int(sum(widths) / dimension)\n",
    "    total_height = int(sum(heights) / dimension)\n",
    "    new_image = Image.new(\"RGB\", (total_width, total_height))\n",
    "    for index in range(0, num_frames):\n",
    "        image = images[index]\n",
    "        new_image.paste(image, ((index % dimension ) * image.size[0], math.floor(index / dimension) * image.size[1]))\n",
    "    save_DIR = save_DIR + \"combined_\" + file_name + \".png\"\n",
    "    new_image.save(save_DIR)\n",
    "    return save_DIR"
   ]
  },
  {
   "cell_type": "code",
   "execution_count": 64,
   "metadata": {
    "id": "7ETnaLwrsCTB"
   },
   "outputs": [],
   "source": [
    "def create_training_data():\n",
    "    all_training_data = {} # dict containing training data for hyperparameter configs\n",
    "    for category in CATEGORIES: \n",
    "        path = os.path.join(DATADIR, category)\n",
    "        class_num = CATEGORIES.index(category)\n",
    "        for image in sorted(os.listdir(path)): \n",
    "            if \".png\" not in image:\n",
    "                continue\n",
    "            for start_frame in [80, 100]:\n",
    "                if str(start_frame) not in image: ## Find the starting frame\n",
    "                    continue\n",
    "                for num_frames in [4, 9, 16]:\n",
    "                    training_data = [] \n",
    "                    save_DIR = \"./finaldata/\" + category + \"/combined_\" + str(start_frame) + \"_\" + str(num_frames) + \"/\"                    \n",
    "                    if start_frame < 100: \n",
    "                        file_name = image[0:-6]\n",
    "                    else: \n",
    "                        file_name = image[0:-7]\n",
    "                    if not os.path.isdir(save_DIR):\n",
    "                        os.mkdir(save_DIR)\n",
    "                    IMAGE_DIR = stitch_images(path, file_name, start_frame, num_frames, save_DIR)  # selecting the last 7 character of the file name \n",
    "                    # The following snippet to reduce data size\n",
    "                    try: \n",
    "                        img_array = cv2.imread(IMAGE_DIR, cv2.IMREAD_GRAYSCALE) #cv2.IMREAD_GRAYSCALE: It specifies to load an image in grayscale mode. Alternatively, we can pass integer value 0 for this flag.\n",
    "                        training_data.append([img_array, class_num])\n",
    "                    except Exception as e: \n",
    "                        pass \n",
    "                    all_training_data[(start_frame, num_frames)] = training_data\n",
    "    return all_training_data"
   ]
  },
  {
   "cell_type": "code",
   "execution_count": 65,
   "metadata": {
    "id": "ikvU1YEbsCTB"
   },
   "outputs": [],
   "source": [
    "all_training_data = create_training_data() \n",
    "for training_data in all_training_data.values():\n",
    "    random.shuffle(training_data)"
   ]
  },
  {
   "cell_type": "code",
   "execution_count": 9,
   "metadata": {
    "id": "bvCVlE4psCTB"
   },
   "outputs": [],
   "source": [
    "X, y = [], []\n",
    "for features, label in training_data: \n",
    "    X.append(features)\n",
    "    y.append(label)\n",
    "X = np.array(X).reshape(-1, IMG_SIZE, IMG_SIZE, 1) # -1 automatically changes to the # of instances\n",
    "y = np.array(y)"
   ]
  },
  {
   "cell_type": "code",
   "execution_count": 10,
   "metadata": {
    "colab": {
     "base_uri": "https://localhost:8080/"
    },
    "id": "V8ZY8sMOV6Co",
    "outputId": "7c857f22-9421-4c93-f347-59bd6740df05"
   },
   "outputs": [
    {
     "name": "stdout",
     "output_type": "stream",
     "text": [
      "(2100, 300, 300, 1)\n"
     ]
    }
   ],
   "source": [
    "print(X.shape)"
   ]
  },
  {
   "cell_type": "code",
   "execution_count": 11,
   "metadata": {
    "id": "Abh8ZaZKbH_c"
   },
   "outputs": [],
   "source": [
    "X = X.astype('float32')\n",
    "X = X / 255.0"
   ]
  },
  {
   "cell_type": "code",
   "execution_count": 12,
   "metadata": {
    "colab": {
     "base_uri": "https://localhost:8080/"
    },
    "id": "u1INyi2-kLju",
    "outputId": "095589a2-67ab-4678-cf9b-6fa9b9040a9d"
   },
   "outputs": [
    {
     "name": "stdout",
     "output_type": "stream",
     "text": [
      "90000\n",
      "2.5246440467268747\n"
     ]
    }
   ],
   "source": [
    "from PIL import Image \n",
    "def compute_entropy(signal):\n",
    "    lensig = signal.size\n",
    "    symset = list(set(signal))\n",
    "    numsym = len(symset)\n",
    "    propab = [np.size(signal[signal == i]) / (1.0 * lensig) for i in symset]\n",
    "    entropy = np.sum([p * np.log2(1.0 / p) for p in propab])\n",
    "    return entropy\n",
    "\n",
    "#\n",
    "test = X[1].ravel()\n",
    "print(len(X[1].ravel()))\n",
    "print(compute_entropy(test))\n",
    "\n",
    "\n",
    "label_entropies = {'Boring': [], 'Interesting': []}\n",
    "for i, instance in enumerate(X):\n",
    "    instance_1d = instance.ravel()\n",
    "    entropy = compute_entropy(instance_1d)\n",
    "    label_id = y[i]\n",
    "    if label_id == 0:\n",
    "        label_entropies['Boring'].append(entropy)\n",
    "    else:\n",
    "        label_entropies['Interesting'].append(entropy)"
   ]
  },
  {
   "cell_type": "code",
   "execution_count": 13,
   "metadata": {
    "colab": {
     "base_uri": "https://localhost:8080/",
     "height": 282
    },
    "id": "MAj8bKe3LkJ1",
    "outputId": "e94a9370-8e6e-473b-ad2c-fce51fcb32c3"
   },
   "outputs": [
    {
     "data": {
      "image/png": "[encoded data removed]",
      "text/plain": [
       "<Figure size 432x288 with 1 Axes>"
      ]
     },
     "metadata": {
      "needs_background": "light",
      "tags": []
     },
     "output_type": "display_data"
    },
    {
     "name": "stdout",
     "output_type": "stream",
     "text": [
      "0.0\n"
     ]
    }
   ],
   "source": [
    "#label_entropies\n",
    "\n",
    "import numpy as np\n",
    "import matplotlib.pyplot as pp\n",
    "val = 0. # this is the value where you want the data to appear on the y-axis.\n",
    "ar = label_entropies['Boring'] # just as an example array\n",
    "pp.plot(ar, np.zeros_like(ar) + val, 'x')\n",
    "pp.show()\n",
    "print(min(ar))"
   ]
  },
  {
   "cell_type": "code",
   "execution_count": 14,
   "metadata": {
    "colab": {
     "base_uri": "https://localhost:8080/",
     "height": 282
    },
    "id": "EmviSKjlPYzi",
    "outputId": "fdc4b650-a8ff-4098-feca-b282c163f80a"
   },
   "outputs": [
    {
     "data": {
      "image/png": "[encoded data removed]",
      "text/plain": [
       "<Figure size 432x288 with 1 Axes>"
      ]
     },
     "metadata": {
      "needs_background": "light",
      "tags": []
     },
     "output_type": "display_data"
    },
    {
     "name": "stdout",
     "output_type": "stream",
     "text": [
      "0.03183184025744431\n"
     ]
    }
   ],
   "source": [
    "#label_entropies\n",
    "\n",
    "import numpy as np\n",
    "import matplotlib.pyplot as pp\n",
    "val = 0. # this is the value where you want the data to appear on the y-axis.\n",
    "ar = label_entropies['Interesting'] # just as an example array\n",
    "pp.plot(ar, np.zeros_like(ar) + val, 'x')\n",
    "pp.show()\n",
    "\n",
    "print(min(ar))"
   ]
  },
  {
   "cell_type": "code",
   "execution_count": 15,
   "metadata": {
    "colab": {
     "base_uri": "https://localhost:8080/",
     "height": 299
    },
    "id": "VgiwIRlbnZ9R",
    "outputId": "d5dd92fb-7a52-4947-cc3b-4843d8895ef1"
   },
   "outputs": [
    {
     "name": "stdout",
     "output_type": "stream",
     "text": [
      "0.0\n",
      "Baseline =  0.5\n",
      "2100\n"
     ]
    },
    {
     "data": {
      "image/png": "[encoded data removed]",
      "text/plain": [
       "<Figure size 432x288 with 1 Axes>"
      ]
     },
     "metadata": {
      "needs_background": "light",
      "tags": []
     },
     "output_type": "display_data"
    }
   ],
   "source": [
    "print(np.min(X))\n",
    "plt.imshow(X[12].reshape(IMG_SIZE, IMG_SIZE), cmap='gray');\n",
    "plt.axis('off')\n",
    "plt.savefig('stitched_image.png')\n",
    "print('Baseline = ', np.sum(y)/len(y) )\n",
    "print(len(y))"
   ]
  },
  {
   "cell_type": "code",
   "execution_count": 16,
   "metadata": {
    "colab": {
     "base_uri": "https://localhost:8080/"
    },
    "id": "8AfM21h0sCTB",
    "outputId": "c18eeede-b5f1-4175-8c53-ad0240bc0ae5"
   },
   "outputs": [
    {
     "name": "stdout",
     "output_type": "stream",
     "text": [
      "(2100, 300, 300, 1)\n",
      "(2000, 300, 300, 1)\n"
     ]
    }
   ],
   "source": [
    "# Split X, y into training and test data\n",
    "\n",
    "print(X.shape)\n",
    "print(X[:2000].shape)\n",
    "tempx = X[:900]\n",
    "tempy = y[:900]\n",
    "X_train, X_test, y_train, y_test = train_test_split(tempx, tempy, test_size = 0.1, random_state = 42) "
   ]
  },
  {
   "cell_type": "code",
   "execution_count": 23,
   "metadata": {
    "colab": {
     "base_uri": "https://localhost:8080/"
    },
    "id": "8RnoeyR56cLm",
    "outputId": "1acd5f41-3a1c-401a-91ed-68e090a998ca"
   },
   "outputs": [
    {
     "name": "stdout",
     "output_type": "stream",
     "text": [
      "Epoch 1/20\n",
      "405/405 [==============================] - 10s 21ms/step - loss: 30.6380 - accuracy: 0.5273\n",
      "Epoch 2/20\n",
      "405/405 [==============================] - 9s 21ms/step - loss: 5.2468 - accuracy: 0.5014\n",
      "Epoch 3/20\n",
      "405/405 [==============================] - 9s 21ms/step - loss: 1.9650 - accuracy: 0.5507\n",
      "Epoch 4/20\n",
      "405/405 [==============================] - 9s 21ms/step - loss: 1.3771 - accuracy: 0.5086\n",
      "Epoch 5/20\n",
      "405/405 [==============================] - 9s 21ms/step - loss: 1.7150 - accuracy: 0.5351\n",
      "Epoch 6/20\n",
      "405/405 [==============================] - 9s 21ms/step - loss: 0.9716 - accuracy: 0.5162\n",
      "Epoch 7/20\n",
      "405/405 [==============================] - 9s 21ms/step - loss: 1.6350 - accuracy: 0.4977\n",
      "Epoch 8/20\n",
      "405/405 [==============================] - 9s 21ms/step - loss: 0.7625 - accuracy: 0.5510\n",
      "Epoch 9/20\n",
      "405/405 [==============================] - 9s 21ms/step - loss: 0.7809 - accuracy: 0.5887\n",
      "Epoch 10/20\n",
      "405/405 [==============================] - 9s 21ms/step - loss: 0.7542 - accuracy: 0.6311\n",
      "Epoch 11/20\n",
      "405/405 [==============================] - 9s 21ms/step - loss: 1.8862 - accuracy: 0.6706\n",
      "Epoch 12/20\n",
      "405/405 [==============================] - 9s 21ms/step - loss: 0.7792 - accuracy: 0.6830\n",
      "Epoch 13/20\n",
      "405/405 [==============================] - 9s 21ms/step - loss: 0.9468 - accuracy: 0.6773\n",
      "Epoch 14/20\n",
      "405/405 [==============================] - 9s 21ms/step - loss: 1.3282 - accuracy: 0.7103\n",
      "Epoch 15/20\n",
      "405/405 [==============================] - 9s 21ms/step - loss: 1.5856 - accuracy: 0.7336\n",
      "Epoch 16/20\n",
      "405/405 [==============================] - 9s 21ms/step - loss: 0.8124 - accuracy: 0.7414\n",
      "Epoch 17/20\n",
      "405/405 [==============================] - 9s 21ms/step - loss: 1.0472 - accuracy: 0.7328\n",
      "Epoch 18/20\n",
      "405/405 [==============================] - 9s 21ms/step - loss: 1.3579 - accuracy: 0.7715\n",
      "Epoch 19/20\n",
      "405/405 [==============================] - 9s 21ms/step - loss: 1.5257 - accuracy: 0.7662\n",
      "Epoch 20/20\n",
      "405/405 [==============================] - 9s 21ms/step - loss: 1.4542 - accuracy: 0.8163\n"
     ]
    }
   ],
   "source": [
    "# Train on training data only\n",
    "model2 = keras.Sequential()\n",
    "model2.add(Conv2D(64, (5, 5), input_shape=tempx.shape[1:]))\n",
    "model2.add(BatchNormalization())\n",
    "model2.add(Activation(\"relu\"))\n",
    "model2.add(MaxPooling2D(pool_size=(2, 2)))\n",
    "model2.add(Dropout(0.15))\n",
    "\n",
    "model2.add(Conv2D(64, (3, 3)))\n",
    "model2.add(BatchNormalization())\n",
    "model2.add(Activation(\"relu\"))\n",
    "model2.add(MaxPooling2D(pool_size=(2, 2)))\n",
    "model2.add(Dropout(0.15))\n",
    "\n",
    "model2.add(Flatten())\n",
    "model2.add(Dense(64))\n",
    "model2.add(Activation(\"relu\"))\n",
    "model2.add(Dropout(0.15))\n",
    "\n",
    "model2.add(Dense(10))\n",
    "model2.add(Activation(\"relu\"))\n",
    "model2.add(Dropout(0.15))\n",
    "\n",
    "model2.add(Dense(1))\n",
    "model2.add(Activation(\"sigmoid\"))\n",
    "\n",
    "model2.compile(loss=\"binary_crossentropy\", optimizer=\"rmsprop\", metrics=[\"accuracy\"])\n",
    "\n",
    "with tf.device('/device:GPU:0'):\n",
    "    model2.fit(X_train, y_train, batch_size=2, epochs=20, verbose = 1) "
   ]
  },
  {
   "cell_type": "code",
   "execution_count": 24,
   "metadata": {
    "colab": {
     "base_uri": "https://localhost:8080/"
    },
    "id": "sZnWn8aE9KM4",
    "outputId": "fe89109e-1051-449f-bab5-bebd960867bb"
   },
   "outputs": [
    {
     "name": "stdout",
     "output_type": "stream",
     "text": [
      "(56, 300, 300, 1)\n",
      "15\n"
     ]
    }
   ],
   "source": [
    "# Split X, y into training and test data\n",
    "#X_train, X_test, y_train, y_test = train_test_split(tempx, tempy, test_size = 0.1, random_state = 42) \n",
    "\n",
    "# Reduce positive values to ~10% of data\n",
    "\n",
    "# Find indices where y_test is interesting\n",
    "y_test_bool = y_test == 1\n",
    "num_true = 0\n",
    "delete_mask = []\n",
    "for i in range(0, len(y_test)):\n",
    "  if y_test_bool[i] == True:\n",
    "    num_true += 1\n",
    "    if num_true > 15:\n",
    "      delete_mask.append(i)\n",
    "      \n",
    "\n",
    "y_test = np.delete(y_test, delete_mask, 0)\n",
    "X_test = np.delete(X_test, delete_mask, 0)\n",
    "print(X_test.shape)\n",
    "print(np.sum(y_test))"
   ]
  },
  {
   "cell_type": "code",
   "execution_count": 25,
   "metadata": {
    "colab": {
     "base_uri": "https://localhost:8080/"
    },
    "id": "TYYc--hZF1fM",
    "outputId": "47069367-070e-4170-dcf6-289b635a0bbf"
   },
   "outputs": [
    {
     "name": "stdout",
     "output_type": "stream",
     "text": [
      "Accuracy on test---\n",
      "0.8571428571428571\n",
      "0.4666666666666667\n"
     ]
    },
    {
     "name": "stderr",
     "output_type": "stream",
     "text": [
      "/usr/local/lib/python3.6/dist-packages/tensorflow/python/keras/engine/sequential.py:450: UserWarning: `model.predict_classes()` is deprecated and will be removed after 2021-01-01. Please use instead:* `np.argmax(model.predict(x), axis=-1)`,   if your model does multi-class classification   (e.g. if it uses a `softmax` last-layer activation).* `(model.predict(x) > 0.5).astype(\"int32\")`,   if your model does binary classification   (e.g. if it uses a `sigmoid` last-layer activation).\n",
      "  warnings.warn('`model.predict_classes()` is deprecated and '\n"
     ]
    }
   ],
   "source": [
    "from sklearn.metrics import accuracy_score, f1_score, precision_score, recall_score\n",
    "\n",
    "# Do an accuracy test on data with only ~10% interesting claseses\n",
    "print('Accuracy on test---')\n",
    "y_pred_test=model2.predict_classes(X_test)\n",
    "print(accuracy_score(y_test,y_pred_test))\n",
    "print(recall_score(y_test,y_pred_test))"
   ]
  },
  {
   "cell_type": "code",
   "execution_count": 32,
   "metadata": {
    "colab": {
     "base_uri": "https://localhost:8080/"
    },
    "id": "PskuFftH47-J",
    "outputId": "7fa0fb29-9387-497d-cc2e-ea652a6c5fdc"
   },
   "outputs": [
    {
     "name": "stdout",
     "output_type": "stream",
     "text": [
      "(2100, 300, 300, 1)\n",
      "(2000, 300, 300, 1)\n"
     ]
    }
   ],
   "source": [
    "# Split X, y into training and test data\n",
    "\n",
    "print(X.shape)\n",
    "print(X[:2000].shape)\n",
    "tempx = X[:1200]\n",
    "tempy = y[:1200]\n",
    "X_train, X_test, y_train, y_test = train_test_split(tempx, tempy, test_size = 0.1, random_state = 42) \n",
    "\n"
   ]
  },
  {
   "cell_type": "code",
   "execution_count": 33,
   "metadata": {
    "colab": {
     "base_uri": "https://localhost:8080/"
    },
    "id": "dtIuaWXJ_tmr",
    "outputId": "f76c6e84-ab56-469e-ba2c-f9fb790d20f9"
   },
   "outputs": [
    {
     "name": "stdout",
     "output_type": "stream",
     "text": [
      "Epoch 1/20\n",
      "540/540 [==============================] - 12s 21ms/step - loss: 13.1818 - accuracy: 0.4819\n",
      "Epoch 2/20\n",
      "540/540 [==============================] - 11s 21ms/step - loss: 4.1287 - accuracy: 0.4959\n",
      "Epoch 3/20\n",
      "540/540 [==============================] - 11s 21ms/step - loss: 2.7505 - accuracy: 0.5290\n",
      "Epoch 4/20\n",
      "540/540 [==============================] - 11s 21ms/step - loss: 2.0570 - accuracy: 0.5127\n",
      "Epoch 5/20\n",
      "540/540 [==============================] - 11s 21ms/step - loss: 1.1156 - accuracy: 0.5678\n",
      "Epoch 6/20\n",
      "540/540 [==============================] - 11s 21ms/step - loss: 0.8841 - accuracy: 0.6633\n",
      "Epoch 7/20\n",
      "540/540 [==============================] - 11s 21ms/step - loss: 0.7968 - accuracy: 0.6945\n",
      "Epoch 8/20\n",
      "540/540 [==============================] - 11s 21ms/step - loss: 0.8373 - accuracy: 0.7071\n",
      "Epoch 9/20\n",
      "540/540 [==============================] - 11s 21ms/step - loss: 0.7935 - accuracy: 0.7604\n",
      "Epoch 10/20\n",
      "540/540 [==============================] - 11s 21ms/step - loss: 0.5793 - accuracy: 0.8117\n",
      "Epoch 11/20\n",
      "540/540 [==============================] - 11s 21ms/step - loss: 0.7762 - accuracy: 0.7971\n",
      "Epoch 12/20\n",
      "540/540 [==============================] - 11s 21ms/step - loss: 0.7053 - accuracy: 0.8408\n",
      "Epoch 13/20\n",
      "540/540 [==============================] - 11s 21ms/step - loss: 1.1167 - accuracy: 0.8279\n",
      "Epoch 14/20\n",
      "540/540 [==============================] - 11s 21ms/step - loss: 0.5145 - accuracy: 0.8340\n",
      "Epoch 15/20\n",
      "540/540 [==============================] - 11s 21ms/step - loss: 0.5291 - accuracy: 0.8470\n",
      "Epoch 16/20\n",
      "540/540 [==============================] - 11s 21ms/step - loss: 0.4319 - accuracy: 0.8419\n",
      "Epoch 17/20\n",
      "540/540 [==============================] - 11s 21ms/step - loss: 0.2603 - accuracy: 0.8801\n",
      "Epoch 18/20\n",
      "540/540 [==============================] - 11s 21ms/step - loss: 0.2845 - accuracy: 0.8830\n",
      "Epoch 19/20\n",
      "540/540 [==============================] - 11s 21ms/step - loss: 0.4287 - accuracy: 0.9249\n",
      "Epoch 20/20\n",
      "540/540 [==============================] - 11s 21ms/step - loss: 0.5557 - accuracy: 0.9254\n"
     ]
    }
   ],
   "source": [
    "# Train on training data only\n",
    "model3 = keras.Sequential()\n",
    "model3.add(Conv2D(64, (5, 5), input_shape=tempx.shape[1:]))\n",
    "model3.add(BatchNormalization())\n",
    "model3.add(Activation(\"relu\"))\n",
    "model3.add(MaxPooling2D(pool_size=(2, 2)))\n",
    "model3.add(Dropout(0.15))\n",
    "\n",
    "model3.add(Conv2D(64, (3, 3)))\n",
    "model3.add(BatchNormalization())\n",
    "model3.add(Activation(\"relu\"))\n",
    "model3.add(MaxPooling2D(pool_size=(2, 2)))\n",
    "model3.add(Dropout(0.15))\n",
    "\n",
    "model3.add(Flatten())\n",
    "model3.add(Dense(64))\n",
    "model3.add(Activation(\"relu\"))\n",
    "model3.add(Dropout(0.15))\n",
    "\n",
    "model3.add(Dense(10))\n",
    "model3.add(Activation(\"relu\"))\n",
    "model3.add(Dropout(0.15))\n",
    "\n",
    "model3.add(Dense(1))\n",
    "model3.add(Activation(\"sigmoid\"))\n",
    "\n",
    "model3.compile(loss=\"binary_crossentropy\", optimizer=\"rmsprop\", metrics=[\"accuracy\"])\n",
    "\n",
    "with tf.device('/device:GPU:0'):\n",
    "  model3.fit(X_train, y_train, batch_size=2, epochs=20, verbose = 1) "
   ]
  },
  {
   "cell_type": "code",
   "execution_count": 35,
   "metadata": {
    "colab": {
     "base_uri": "https://localhost:8080/"
    },
    "id": "3rwa0sgvALZN",
    "outputId": "13df821c-04fb-409e-9b36-6667c649fc38"
   },
   "outputs": [
    {
     "name": "stdout",
     "output_type": "stream",
     "text": [
      "(79, 300, 300, 1)\n",
      "15\n"
     ]
    }
   ],
   "source": [
    "# Split X, y into training and test data\n",
    "#X_train, X_test, y_train, y_test = train_test_split(tempx, tempy, test_size = 0.1, random_state = 42) \n",
    "\n",
    "# Reduce positive values to ~10% of data\n",
    "\n",
    "# Find indices where y_test is interesting\n",
    "y_test_bool = y_test == 1\n",
    "num_true = 0\n",
    "delete_mask = []\n",
    "for i in range(0, len(y_test)):\n",
    "  if y_test_bool[i] == True:\n",
    "    num_true += 1\n",
    "    if num_true > 15:\n",
    "      delete_mask.append(i)\n",
    "      \n",
    "\n",
    "y_test = np.delete(y_test, delete_mask, 0)\n",
    "X_test = np.delete(X_test, delete_mask, 0)\n",
    "print(X_test.shape)\n",
    "print(np.sum(y_test))"
   ]
  },
  {
   "cell_type": "code",
   "execution_count": 36,
   "metadata": {
    "colab": {
     "base_uri": "https://localhost:8080/"
    },
    "id": "T73EIQKyANC2",
    "outputId": "84f94365-7136-49c5-e214-69fee2d5a733"
   },
   "outputs": [
    {
     "name": "stdout",
     "output_type": "stream",
     "text": [
      "Accuracy on test---\n"
     ]
    },
    {
     "name": "stderr",
     "output_type": "stream",
     "text": [
      "/usr/local/lib/python3.6/dist-packages/tensorflow/python/keras/engine/sequential.py:450: UserWarning: `model.predict_classes()` is deprecated and will be removed after 2021-01-01. Please use instead:* `np.argmax(model.predict(x), axis=-1)`,   if your model does multi-class classification   (e.g. if it uses a `softmax` last-layer activation).* `(model.predict(x) > 0.5).astype(\"int32\")`,   if your model does binary classification   (e.g. if it uses a `sigmoid` last-layer activation).\n",
      "  warnings.warn('`model.predict_classes()` is deprecated and '\n"
     ]
    },
    {
     "name": "stdout",
     "output_type": "stream",
     "text": [
      "0.9240506329113924\n",
      "0.6\n"
     ]
    }
   ],
   "source": [
    "from sklearn.metrics import accuracy_score, f1_score, precision_score, recall_score\n",
    "\n",
    "# Do an accuracy test on data with only ~10% interesting claseses\n",
    "print('Accuracy on test---')\n",
    "y_pred_test=model3.predict_classes(X_test)\n",
    "print(accuracy_score(y_test,y_pred_test))\n",
    "print(recall_score(y_test,y_pred_test))"
   ]
  },
  {
   "cell_type": "code",
   "execution_count": 37,
   "metadata": {
    "colab": {
     "base_uri": "https://localhost:8080/"
    },
    "id": "QRHvyHacAQGZ",
    "outputId": "8a2f4ad8-b2b8-4189-c3a0-252ea46ef899"
   },
   "outputs": [
    {
     "name": "stdout",
     "output_type": "stream",
     "text": [
      "(2100, 300, 300, 1)\n",
      "(2000, 300, 300, 1)\n"
     ]
    }
   ],
   "source": [
    "# Split X, y into training and test data\n",
    "\n",
    "print(X.shape)\n",
    "print(X[:2000].shape)\n",
    "tempx = X[:1500]\n",
    "tempy = y[:1500]\n",
    "X_train, X_test, y_train, y_test = train_test_split(tempx, tempy, test_size = 0.1, random_state = 42) "
   ]
  },
  {
   "cell_type": "code",
   "execution_count": 38,
   "metadata": {
    "colab": {
     "base_uri": "https://localhost:8080/"
    },
    "id": "U7p5XpcICOmw",
    "outputId": "3d73884e-f9b3-4bc6-8672-5f3e264b7b4c"
   },
   "outputs": [
    {
     "name": "stdout",
     "output_type": "stream",
     "text": [
      "Epoch 1/20\n",
      "675/675 [==============================] - 15s 21ms/step - loss: 20.1628 - accuracy: 0.5326\n",
      "Epoch 2/20\n",
      "675/675 [==============================] - 14s 21ms/step - loss: 1.9422 - accuracy: 0.5420\n",
      "Epoch 3/20\n",
      "675/675 [==============================] - 14s 21ms/step - loss: 1.4865 - accuracy: 0.6022\n",
      "Epoch 4/20\n",
      "675/675 [==============================] - 14s 21ms/step - loss: 0.8764 - accuracy: 0.5617\n",
      "Epoch 5/20\n",
      "675/675 [==============================] - 14s 21ms/step - loss: 0.8954 - accuracy: 0.6174\n",
      "Epoch 6/20\n",
      "675/675 [==============================] - 14s 21ms/step - loss: 0.8750 - accuracy: 0.6904\n",
      "Epoch 7/20\n",
      "675/675 [==============================] - 14s 21ms/step - loss: 0.5488 - accuracy: 0.7604\n",
      "Epoch 8/20\n",
      "675/675 [==============================] - 14s 21ms/step - loss: 0.4696 - accuracy: 0.7794\n",
      "Epoch 9/20\n",
      "675/675 [==============================] - 14s 21ms/step - loss: 0.5498 - accuracy: 0.7903\n",
      "Epoch 10/20\n",
      "675/675 [==============================] - 14s 21ms/step - loss: 0.3967 - accuracy: 0.8238\n",
      "Epoch 11/20\n",
      "675/675 [==============================] - 14s 21ms/step - loss: 0.5829 - accuracy: 0.8391\n",
      "Epoch 12/20\n",
      "675/675 [==============================] - 14s 21ms/step - loss: 0.5154 - accuracy: 0.8552\n",
      "Epoch 13/20\n",
      "675/675 [==============================] - 14s 21ms/step - loss: 0.3426 - accuracy: 0.8671\n",
      "Epoch 14/20\n",
      "675/675 [==============================] - 14s 21ms/step - loss: 0.3454 - accuracy: 0.8652\n",
      "Epoch 15/20\n",
      "675/675 [==============================] - 14s 21ms/step - loss: 0.3634 - accuracy: 0.8902\n",
      "Epoch 16/20\n",
      "675/675 [==============================] - 14s 21ms/step - loss: 0.4083 - accuracy: 0.8731\n",
      "Epoch 17/20\n",
      "675/675 [==============================] - 14s 21ms/step - loss: 0.3825 - accuracy: 0.9086\n",
      "Epoch 18/20\n",
      "675/675 [==============================] - 14s 21ms/step - loss: 0.2632 - accuracy: 0.8916\n",
      "Epoch 19/20\n",
      "675/675 [==============================] - 14s 21ms/step - loss: 0.3080 - accuracy: 0.8985\n",
      "Epoch 20/20\n",
      "675/675 [==============================] - 14s 21ms/step - loss: 0.2655 - accuracy: 0.9135\n"
     ]
    }
   ],
   "source": [
    "# Train on training data only\n",
    "model4 = keras.Sequential()\n",
    "model4.add(Conv2D(64, (5, 5), input_shape=tempx.shape[1:]))\n",
    "model4.add(BatchNormalization())\n",
    "model4.add(Activation(\"relu\"))\n",
    "model4.add(MaxPooling2D(pool_size=(2, 2)))\n",
    "model4.add(Dropout(0.15))\n",
    "\n",
    "model4.add(Conv2D(64, (3, 3)))\n",
    "model4.add(BatchNormalization())\n",
    "model4.add(Activation(\"relu\"))\n",
    "model4.add(MaxPooling2D(pool_size=(2, 2)))\n",
    "model4.add(Dropout(0.15))\n",
    "\n",
    "model4.add(Flatten())\n",
    "model4.add(Dense(64))\n",
    "model4.add(Activation(\"relu\"))\n",
    "model4.add(Dropout(0.15))\n",
    "\n",
    "model4.add(Dense(10))\n",
    "model4.add(Activation(\"relu\"))\n",
    "model4.add(Dropout(0.15))\n",
    "\n",
    "model4.add(Dense(1))\n",
    "model4.add(Activation(\"sigmoid\"))\n",
    "\n",
    "model4.compile(loss=\"binary_crossentropy\", optimizer=\"rmsprop\", metrics=[\"accuracy\"])\n",
    "\n",
    "with tf.device('/device:GPU:0'):\n",
    "  model4.fit(X_train, y_train, batch_size=2, epochs=20, verbose = 1) "
   ]
  },
  {
   "cell_type": "code",
   "execution_count": 39,
   "metadata": {
    "colab": {
     "base_uri": "https://localhost:8080/"
    },
    "id": "1lTvhUywCVRp",
    "outputId": "87482993-a982-49b4-b708-cd857fbb4db0"
   },
   "outputs": [
    {
     "name": "stdout",
     "output_type": "stream",
     "text": [
      "(84, 300, 300, 1)\n",
      "15\n"
     ]
    }
   ],
   "source": [
    "# Split X, y into training and test data\n",
    "#X_train, X_test, y_train, y_test = train_test_split(tempx, tempy, test_size = 0.1, random_state = 42) \n",
    "\n",
    "# Reduce positive values to ~10% of data\n",
    "\n",
    "# Find indices where y_test is interesting\n",
    "y_test_bool = y_test == 1\n",
    "num_true = 0\n",
    "delete_mask = []\n",
    "for i in range(0, len(y_test)):\n",
    "  if y_test_bool[i] == True:\n",
    "    num_true += 1\n",
    "    if num_true > 15:\n",
    "      delete_mask.append(i)\n",
    "      \n",
    "\n",
    "y_test = np.delete(y_test, delete_mask, 0)\n",
    "X_test = np.delete(X_test, delete_mask, 0)\n",
    "print(X_test.shape)\n",
    "print(np.sum(y_test))"
   ]
  },
  {
   "cell_type": "code",
   "execution_count": 40,
   "metadata": {
    "colab": {
     "base_uri": "https://localhost:8080/"
    },
    "id": "ULjJXUglCXHD",
    "outputId": "ceedb5e1-3d69-413d-a10b-c31c265878fa"
   },
   "outputs": [
    {
     "name": "stdout",
     "output_type": "stream",
     "text": [
      "Accuracy on test---\n"
     ]
    },
    {
     "name": "stderr",
     "output_type": "stream",
     "text": [
      "/usr/local/lib/python3.6/dist-packages/tensorflow/python/keras/engine/sequential.py:450: UserWarning: `model.predict_classes()` is deprecated and will be removed after 2021-01-01. Please use instead:* `np.argmax(model.predict(x), axis=-1)`,   if your model does multi-class classification   (e.g. if it uses a `softmax` last-layer activation).* `(model.predict(x) > 0.5).astype(\"int32\")`,   if your model does binary classification   (e.g. if it uses a `sigmoid` last-layer activation).\n",
      "  warnings.warn('`model.predict_classes()` is deprecated and '\n"
     ]
    },
    {
     "name": "stdout",
     "output_type": "stream",
     "text": [
      "0.8690476190476191\n",
      "1.0\n"
     ]
    }
   ],
   "source": [
    "from sklearn.metrics import accuracy_score, f1_score, precision_score, recall_score\n",
    "\n",
    "# Do an accuracy test on data with only ~10% interesting claseses\n",
    "print('Accuracy on test---')\n",
    "y_pred_test=model4.predict_classes(X_test)\n",
    "print(accuracy_score(y_test,y_pred_test))\n",
    "print(recall_score(y_test,y_pred_test))"
   ]
  },
  {
   "cell_type": "code",
   "execution_count": 41,
   "metadata": {
    "colab": {
     "base_uri": "https://localhost:8080/"
    },
    "id": "xQqFoFb8DcYZ",
    "outputId": "b7f1a074-7652-4265-a196-fed049ba964f"
   },
   "outputs": [
    {
     "name": "stdout",
     "output_type": "stream",
     "text": [
      "(2100, 300, 300, 1)\n",
      "(2000, 300, 300, 1)\n"
     ]
    }
   ],
   "source": [
    "# Split X, y into training and test data\n",
    "\n",
    "print(X.shape)\n",
    "print(X[:2000].shape)\n",
    "tempx = X[:1800]\n",
    "tempy = y[:1800]\n",
    "X_train, X_test, y_train, y_test = train_test_split(tempx, tempy, test_size = 0.1, random_state = 42) "
   ]
  },
  {
   "cell_type": "code",
   "execution_count": 42,
   "metadata": {
    "colab": {
     "base_uri": "https://localhost:8080/"
    },
    "id": "3ICImVP6Dgz_",
    "outputId": "76855b68-68fb-4e3d-82f2-f35c5ea049ec"
   },
   "outputs": [
    {
     "name": "stdout",
     "output_type": "stream",
     "text": [
      "Epoch 1/20\n",
      "810/810 [==============================] - 18s 21ms/step - loss: 11.0010 - accuracy: 0.5661\n",
      "Epoch 2/20\n",
      "810/810 [==============================] - 17s 21ms/step - loss: 2.3966 - accuracy: 0.5348\n",
      "Epoch 3/20\n",
      "810/810 [==============================] - 17s 21ms/step - loss: 1.1856 - accuracy: 0.5358\n",
      "Epoch 4/20\n",
      "810/810 [==============================] - 17s 21ms/step - loss: 1.1256 - accuracy: 0.5609\n",
      "Epoch 5/20\n",
      "810/810 [==============================] - 17s 21ms/step - loss: 2.4789 - accuracy: 0.6955\n",
      "Epoch 6/20\n",
      "810/810 [==============================] - 17s 21ms/step - loss: 1.0624 - accuracy: 0.7428\n",
      "Epoch 7/20\n",
      "810/810 [==============================] - 17s 21ms/step - loss: 1.2958 - accuracy: 0.7789\n",
      "Epoch 8/20\n",
      "810/810 [==============================] - 17s 21ms/step - loss: 1.1419 - accuracy: 0.7959\n",
      "Epoch 9/20\n",
      "810/810 [==============================] - 17s 21ms/step - loss: 2.1445 - accuracy: 0.8000\n",
      "Epoch 10/20\n",
      "810/810 [==============================] - 17s 21ms/step - loss: 1.3953 - accuracy: 0.7340\n",
      "Epoch 11/20\n",
      "810/810 [==============================] - 17s 21ms/step - loss: 1.0740 - accuracy: 0.7938\n",
      "Epoch 12/20\n",
      "810/810 [==============================] - 17s 21ms/step - loss: 0.8652 - accuracy: 0.7839\n",
      "Epoch 13/20\n",
      "810/810 [==============================] - 17s 21ms/step - loss: 1.1537 - accuracy: 0.7940\n",
      "Epoch 14/20\n",
      "810/810 [==============================] - 17s 21ms/step - loss: 1.9784 - accuracy: 0.6832\n",
      "Epoch 15/20\n",
      "810/810 [==============================] - 17s 21ms/step - loss: 0.6710 - accuracy: 0.8282\n",
      "Epoch 16/20\n",
      "810/810 [==============================] - 17s 21ms/step - loss: 1.6935 - accuracy: 0.8275\n",
      "Epoch 17/20\n",
      "810/810 [==============================] - 17s 21ms/step - loss: 0.7972 - accuracy: 0.8429\n",
      "Epoch 18/20\n",
      "810/810 [==============================] - 17s 21ms/step - loss: 0.9541 - accuracy: 0.8542\n",
      "Epoch 19/20\n",
      "810/810 [==============================] - 17s 21ms/step - loss: 0.5061 - accuracy: 0.8783\n",
      "Epoch 20/20\n",
      "810/810 [==============================] - 17s 21ms/step - loss: 0.6454 - accuracy: 0.8535\n"
     ]
    }
   ],
   "source": [
    "# Train on training data only\n",
    "model5 = keras.Sequential()\n",
    "model5.add(Conv2D(64, (5, 5), input_shape=tempx.shape[1:]))\n",
    "model5.add(BatchNormalization())\n",
    "model5.add(Activation(\"relu\"))\n",
    "model5.add(MaxPooling2D(pool_size=(2, 2)))\n",
    "model5.add(Dropout(0.15))\n",
    "\n",
    "model5.add(Conv2D(64, (3, 3)))\n",
    "model5.add(BatchNormalization())\n",
    "model5.add(Activation(\"relu\"))\n",
    "model5.add(MaxPooling2D(pool_size=(2, 2)))\n",
    "model5.add(Dropout(0.15))\n",
    "\n",
    "model5.add(Flatten())\n",
    "model5.add(Dense(64))\n",
    "model5.add(Activation(\"relu\"))\n",
    "model5.add(Dropout(0.15))\n",
    "\n",
    "model5.add(Dense(10))\n",
    "model5.add(Activation(\"relu\"))\n",
    "model5.add(Dropout(0.15))\n",
    "\n",
    "model5.add(Dense(1))\n",
    "model5.add(Activation(\"sigmoid\"))\n",
    "\n",
    "model5.compile(loss=\"binary_crossentropy\", optimizer=\"rmsprop\", metrics=[\"accuracy\"])\n",
    "\n",
    "with tf.device('/device:GPU:0'):\n",
    "  model5.fit(X_train, y_train, batch_size=2, epochs=20, verbose = 1) "
   ]
  },
  {
   "cell_type": "code",
   "execution_count": 43,
   "metadata": {
    "colab": {
     "base_uri": "https://localhost:8080/"
    },
    "id": "dIs_TBukDm1X",
    "outputId": "38e98318-d0e5-4f5d-f0a5-7bc3b4c12a63"
   },
   "outputs": [
    {
     "name": "stdout",
     "output_type": "stream",
     "text": [
      "(107, 300, 300, 1)\n",
      "15\n"
     ]
    }
   ],
   "source": [
    "# Split X, y into training and test data\n",
    "#X_train, X_test, y_train, y_test = train_test_split(tempx, tempy, test_size = 0.1, random_state = 42) \n",
    "\n",
    "# Reduce positive values to ~10% of data\n",
    "\n",
    "# Find indices where y_test is interesting\n",
    "y_test_bool = y_test == 1\n",
    "num_true = 0\n",
    "delete_mask = []\n",
    "for i in range(0, len(y_test)):\n",
    "  if y_test_bool[i] == True:\n",
    "    num_true += 1\n",
    "    if num_true > 15:\n",
    "      delete_mask.append(i)\n",
    "      \n",
    "\n",
    "y_test = np.delete(y_test, delete_mask, 0)\n",
    "X_test = np.delete(X_test, delete_mask, 0)\n",
    "print(X_test.shape)\n",
    "print(np.sum(y_test))"
   ]
  },
  {
   "cell_type": "code",
   "execution_count": 44,
   "metadata": {
    "colab": {
     "base_uri": "https://localhost:8080/"
    },
    "id": "x5NeXau8DqJl",
    "outputId": "e82a57b0-39db-4e15-dc39-fb2fdf2ac9e8"
   },
   "outputs": [
    {
     "name": "stdout",
     "output_type": "stream",
     "text": [
      "Accuracy on test---\n"
     ]
    },
    {
     "name": "stderr",
     "output_type": "stream",
     "text": [
      "/usr/local/lib/python3.6/dist-packages/tensorflow/python/keras/engine/sequential.py:450: UserWarning: `model.predict_classes()` is deprecated and will be removed after 2021-01-01. Please use instead:* `np.argmax(model.predict(x), axis=-1)`,   if your model does multi-class classification   (e.g. if it uses a `softmax` last-layer activation).* `(model.predict(x) > 0.5).astype(\"int32\")`,   if your model does binary classification   (e.g. if it uses a `sigmoid` last-layer activation).\n",
      "  warnings.warn('`model.predict_classes()` is deprecated and '\n"
     ]
    },
    {
     "name": "stdout",
     "output_type": "stream",
     "text": [
      "0.897196261682243\n",
      "1.0\n"
     ]
    }
   ],
   "source": [
    "from sklearn.metrics import accuracy_score, f1_score, precision_score, recall_score\n",
    "\n",
    "# Do an accuracy test on data with only ~10% interesting claseses\n",
    "print('Accuracy on test---')\n",
    "y_pred_test=model5.predict_classes(X_test)\n",
    "print(accuracy_score(y_test,y_pred_test))\n",
    "print(recall_score(y_test,y_pred_test))"
   ]
  },
  {
   "cell_type": "code",
   "execution_count": 52,
   "metadata": {
    "colab": {
     "base_uri": "https://localhost:8080/"
    },
    "id": "8GGFaj9tDszX",
    "outputId": "e101f162-31c6-4800-fa16-523cd35c7a2e"
   },
   "outputs": [
    {
     "name": "stdout",
     "output_type": "stream",
     "text": [
      "(2100, 300, 300, 1)\n",
      "(2000, 300, 300, 1)\n"
     ]
    }
   ],
   "source": [
    "# Split X, y into training and test data\n",
    "\n",
    "print(X.shape)\n",
    "print(X[:2000].shape)\n",
    "tempx = X[:2100]\n",
    "tempy = y[:2100]\n",
    "X_train, X_test, y_train, y_test = train_test_split(tempx, tempy, test_size = 0.1, random_state = 42) "
   ]
  },
  {
   "cell_type": "code",
   "execution_count": 53,
   "metadata": {
    "colab": {
     "base_uri": "https://localhost:8080/"
    },
    "id": "KOJo07m_E_Ry",
    "outputId": "a622ee34-c54d-4027-83b1-6f4247f74f6f"
   },
   "outputs": [
    {
     "name": "stdout",
     "output_type": "stream",
     "text": [
      "Epoch 1/20\n",
      "945/945 [==============================] - 21s 21ms/step - loss: 17.6165 - accuracy: 0.5648\n",
      "Epoch 2/20\n",
      "945/945 [==============================] - 20s 21ms/step - loss: 1.6180 - accuracy: 0.5159\n",
      "Epoch 3/20\n",
      "945/945 [==============================] - 20s 21ms/step - loss: 1.1564 - accuracy: 0.7608\n",
      "Epoch 4/20\n",
      "945/945 [==============================] - 20s 21ms/step - loss: 0.7761 - accuracy: 0.7565\n",
      "Epoch 5/20\n",
      "945/945 [==============================] - 20s 21ms/step - loss: 0.7098 - accuracy: 0.7684\n",
      "Epoch 6/20\n",
      "945/945 [==============================] - 20s 21ms/step - loss: 0.7201 - accuracy: 0.7847\n",
      "Epoch 7/20\n",
      "945/945 [==============================] - 20s 21ms/step - loss: 0.7381 - accuracy: 0.7940\n",
      "Epoch 8/20\n",
      "945/945 [==============================] - 20s 21ms/step - loss: 0.6300 - accuracy: 0.7828\n",
      "Epoch 9/20\n",
      "945/945 [==============================] - 20s 21ms/step - loss: 0.8615 - accuracy: 0.8036\n",
      "Epoch 10/20\n",
      "945/945 [==============================] - 20s 21ms/step - loss: 0.7126 - accuracy: 0.7945\n",
      "Epoch 11/20\n",
      "945/945 [==============================] - 20s 21ms/step - loss: 1.0587 - accuracy: 0.7728\n",
      "Epoch 12/20\n",
      "945/945 [==============================] - 20s 21ms/step - loss: 0.5376 - accuracy: 0.8198\n",
      "Epoch 13/20\n",
      "945/945 [==============================] - 20s 21ms/step - loss: 0.5628 - accuracy: 0.8039\n",
      "Epoch 14/20\n",
      "945/945 [==============================] - 20s 21ms/step - loss: 0.5210 - accuracy: 0.8045\n",
      "Epoch 15/20\n",
      "945/945 [==============================] - 20s 21ms/step - loss: 1.3073 - accuracy: 0.8334\n",
      "Epoch 16/20\n",
      "945/945 [==============================] - 20s 21ms/step - loss: 0.5557 - accuracy: 0.8365\n",
      "Epoch 17/20\n",
      "945/945 [==============================] - 20s 21ms/step - loss: 0.4532 - accuracy: 0.8604\n",
      "Epoch 18/20\n",
      "945/945 [==============================] - 20s 21ms/step - loss: 0.5588 - accuracy: 0.8482\n",
      "Epoch 19/20\n",
      "945/945 [==============================] - 20s 21ms/step - loss: 0.8918 - accuracy: 0.8352\n",
      "Epoch 20/20\n",
      "945/945 [==============================] - 20s 21ms/step - loss: 0.4705 - accuracy: 0.8416\n"
     ]
    }
   ],
   "source": [
    "# Train on training data only\n",
    "model6 = keras.Sequential()\n",
    "model6.add(Conv2D(64, (5, 5), input_shape=tempx.shape[1:]))\n",
    "model6.add(BatchNormalization())\n",
    "model6.add(Activation(\"relu\"))\n",
    "model6.add(MaxPooling2D(pool_size=(2, 2)))\n",
    "model6.add(Dropout(0.15))\n",
    "\n",
    "model6.add(Conv2D(64, (3, 3)))\n",
    "model6.add(BatchNormalization())\n",
    "model6.add(Activation(\"relu\"))\n",
    "model6.add(MaxPooling2D(pool_size=(2, 2)))\n",
    "model6.add(Dropout(0.15))\n",
    "\n",
    "model6.add(Flatten())\n",
    "model6.add(Dense(64))\n",
    "model6.add(Activation(\"relu\"))\n",
    "model6.add(Dropout(0.15))\n",
    "\n",
    "model6.add(Dense(10))\n",
    "model6.add(Activation(\"relu\"))\n",
    "model6.add(Dropout(0.15))\n",
    "\n",
    "model6.add(Dense(1))\n",
    "model6.add(Activation(\"sigmoid\"))\n",
    "\n",
    "model6.compile(loss=\"binary_crossentropy\", optimizer=\"rmsprop\", metrics=[\"accuracy\"])\n",
    "\n",
    "with tf.device('/device:GPU:0'):\n",
    "  model6.fit(X_train, y_train, batch_size=2, epochs=20, verbose = 1) "
   ]
  },
  {
   "cell_type": "code",
   "execution_count": 56,
   "metadata": {
    "colab": {
     "base_uri": "https://localhost:8080/"
    },
    "id": "c5iB-ZgjFH1S",
    "outputId": "65a6764e-877d-4733-e41a-f5fd003995dd"
   },
   "outputs": [
    {
     "name": "stdout",
     "output_type": "stream",
     "text": [
      "(123, 300, 300, 1)\n",
      "15\n"
     ]
    }
   ],
   "source": [
    "# Split X, y into training and test data\n",
    "#X_train, X_test, y_train, y_test = train_test_split(tempx, tempy, test_size = 0.1, random_state = 42) \n",
    "\n",
    "# Reduce positive values to ~10% of data\n",
    "\n",
    "# Find indices where y_test is interesting\n",
    "y_test_bool = y_test == 1\n",
    "num_true = 0\n",
    "delete_mask = []\n",
    "for i in range(0, len(y_test)):\n",
    "  if y_test_bool[i] == True:\n",
    "    num_true += 1\n",
    "    if num_true > 15:\n",
    "      delete_mask.append(i)\n",
    "      \n",
    "\n",
    "y_test = np.delete(y_test, delete_mask, 0)\n",
    "X_test = np.delete(X_test, delete_mask, 0)\n",
    "print(X_test.shape)\n",
    "print(np.sum(y_test))"
   ]
  },
  {
   "cell_type": "code",
   "execution_count": 57,
   "metadata": {
    "colab": {
     "base_uri": "https://localhost:8080/"
    },
    "id": "dj3fqRBwFJqM",
    "outputId": "d2c83c11-9f79-4a0b-c906-36da3629fef6"
   },
   "outputs": [
    {
     "name": "stdout",
     "output_type": "stream",
     "text": [
      "Accuracy on test---\n"
     ]
    },
    {
     "name": "stderr",
     "output_type": "stream",
     "text": [
      "/usr/local/lib/python3.6/dist-packages/tensorflow/python/keras/engine/sequential.py:450: UserWarning: `model.predict_classes()` is deprecated and will be removed after 2021-01-01. Please use instead:* `np.argmax(model.predict(x), axis=-1)`,   if your model does multi-class classification   (e.g. if it uses a `softmax` last-layer activation).* `(model.predict(x) > 0.5).astype(\"int32\")`,   if your model does binary classification   (e.g. if it uses a `sigmoid` last-layer activation).\n",
      "  warnings.warn('`model.predict_classes()` is deprecated and '\n"
     ]
    },
    {
     "name": "stdout",
     "output_type": "stream",
     "text": [
      "0.8455284552845529\n",
      "0.0\n"
     ]
    }
   ],
   "source": [
    "from sklearn.metrics import accuracy_score, f1_score, precision_score, recall_score\n",
    "\n",
    "# Do an accuracy test on data with only ~10% interesting claseses\n",
    "print('Accuracy on test---')\n",
    "y_pred_test=model6.predict_classes(X_test)\n",
    "print(accuracy_score(y_test,y_pred_test))\n",
    "print(recall_score(y_test,y_pred_test))"
   ]
  },
  {
   "cell_type": "code",
   "execution_count": null,
   "metadata": {
    "id": "sSOUfJEpHyuR"
   },
   "outputs": [],
   "source": []
  }
 ],
 "metadata": {
  "accelerator": "GPU",
  "colab": {
   "collapsed_sections": [],
   "name": "MLCAModelWithEntropyAndSizeVariation.ipynb",
   "provenance": []
  },
  "kernelspec": {
   "display_name": "Python 3",
   "language": "python",
   "name": "python3"
  },
  "language_info": {
   "codemirror_mode": {
    "name": "ipython",
    "version": 3
   },
   "file_extension": ".py",
   "mimetype": "text/x-python",
   "name": "python",
   "nbconvert_exporter": "python",
   "pygments_lexer": "ipython3",
   "version": "3.7.6"
  }
 },
 "nbformat": 4,
 "nbformat_minor": 1
}
